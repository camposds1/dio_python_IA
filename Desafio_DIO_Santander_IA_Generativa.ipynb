{
  "nbformat": 4,
  "nbformat_minor": 0,
  "metadata": {
    "colab": {
      "provenance": [],
      "authorship_tag": "ABX9TyMV82xnzyfGL2HK3Dqm1pku"
    },
    "kernelspec": {
      "name": "python3",
      "display_name": "Python 3"
    },
    "language_info": {
      "name": "python"
    }
  },
  "cells": [
    {
      "cell_type": "markdown",
      "source": [
        "#Introdução"
      ],
      "metadata": {
        "id": "nUOSaBKEPNDi"
      }
    },
    {
      "cell_type": "markdown",
      "source": [
        "Recebido o arquivo SDW2023.csv com as IDs dos clientes que precisam receber mensagens de marketing de forma personalizada, verificamos que poderia ser utilizado IA generativa para personalizar essas mensagens.\n",
        "Com base nessa lista de IDs, será consumido o endpoint GET https://sdw-2023-prd.up.railway.app/users/{id} GET (API da Santander Dev Week 2023) para obter os dados de cada cliente.\n",
        "As mensagens estando prontas, serão submentidas para atualização da base de dados utilizando o endpoint PUT https://sdw-2023-prd.up.railway.app/users/{id}."
      ],
      "metadata": {
        "id": "mkVMF0fOOLct"
      }
    },
    {
      "cell_type": "markdown",
      "source": [
        "Link da API: https://sdw-2023-prd.up.railway.app/swagger-ui/index.html#/"
      ],
      "metadata": {
        "id": "IgdMxFX6O-b8"
      }
    },
    {
      "cell_type": "code",
      "source": [
        "sdw2023_api_url = 'https://sdw-2023-prd.up.railway.app'"
      ],
      "metadata": {
        "id": "tgACPIwiPEwi"
      },
      "execution_count": null,
      "outputs": []
    },
    {
      "cell_type": "markdown",
      "source": [
        "#Extração de dados"
      ],
      "metadata": {
        "id": "yqhWYFx6PR0S"
      }
    },
    {
      "cell_type": "code",
      "source": [
        "# Importando a biblioteca pandas\n",
        "import pandas as pd\n",
        "\n",
        "# Criando o dataframe a partir do arquivo recebido\n",
        "df = pd.read_csv('SDW2023.csv')\n",
        "user_ids = df['UserID'].tolist()\n",
        "print(user_ids)"
      ],
      "metadata": {
        "colab": {
          "base_uri": "https://localhost:8080/"
        },
        "id": "SslFOL1iPTiJ",
        "outputId": "71d058ec-f988-4ab0-ec67-b01e267ab1bb"
      },
      "execution_count": null,
      "outputs": [
        {
          "output_type": "stream",
          "name": "stdout",
          "text": [
            "[1, 2, 3, 4, 5]\n"
          ]
        }
      ]
    },
    {
      "cell_type": "code",
      "source": [
        "# Importando as bibliotecas requests e json\n",
        "import requests\n",
        "import json\n",
        "\n",
        "# Criando a função para utilizar o método GET\n",
        "def get_user(id):\n",
        "  response = requests.get(f'{sdw2023_api_url}/users/{id}')\n",
        "  return response.json() if response.status_code == 200 else None\n",
        "\n",
        "users = [user for id in user_ids if (user := get_user(id)) is not None]\n",
        "print(json.dumps(users, indent=2))"
      ],
      "metadata": {
        "id": "TcaeMYtpPyGZ"
      },
      "execution_count": null,
      "outputs": []
    },
    {
      "cell_type": "markdown",
      "source": [
        "#Transformação"
      ],
      "metadata": {
        "id": "cpqRthPFQKNm"
      }
    },
    {
      "cell_type": "code",
      "source": [
        "# Instalando a API da OpenAI GPT-4\n",
        "!pip install openai"
      ],
      "metadata": {
        "id": "C-j-jTmiQMvQ"
      },
      "execution_count": null,
      "outputs": []
    },
    {
      "cell_type": "code",
      "source": [
        "# Definindo a key\n",
        "openai_api_key = 'TODO'"
      ],
      "metadata": {
        "id": "K2BlMlyxQcdW"
      },
      "execution_count": null,
      "outputs": []
    },
    {
      "cell_type": "code",
      "source": [
        "# Importando a biblioteca da OpenAI\n",
        "import openai\n",
        "\n",
        "openai.api_key = openai_api_key\n",
        "\n",
        "# Criando função para gerar textos de marketing personalizados\n",
        "def generate_ai_news(user):\n",
        "  completion = openai.ChatCompletion.create(\n",
        "    model=\"gpt-4\",\n",
        "    messages=[\n",
        "      {\n",
        "          \"role\": \"system\",\n",
        "          \"content\": \"Você é um especialista em markting bancário.\"\n",
        "      },\n",
        "      {\n",
        "          \"role\": \"user\",\n",
        "          \"content\": f\"Crie uma mensagem para {user['name']} sobre a importância dos investimentos (máximo de 100 caracteres)\"\n",
        "      }\n",
        "    ]\n",
        "  )\n",
        "  return completion.choices[0].message.content.strip('\\\"')\n",
        "\n",
        "# Loop de criação de textos de acordo com cada cliente da lista\n",
        "for user in users:\n",
        "  news = generate_ai_news(user)\n",
        "  print(news)\n",
        "  user['news'].append({\n",
        "      \"icon\": \"https://digitalinnovationone.github.io/santander-dev-week-2023-api/icons/credit.svg\",\n",
        "      \"description\": news\n",
        "  })"
      ],
      "metadata": {
        "id": "gnPohJaCQiY0"
      },
      "execution_count": null,
      "outputs": []
    },
    {
      "cell_type": "markdown",
      "source": [
        "#Carregamento"
      ],
      "metadata": {
        "id": "M_zw618MQwJ5"
      }
    },
    {
      "cell_type": "code",
      "source": [
        "# Definindo função para atualizar os registros dos usuários\n",
        "def update_user(user):\n",
        "  response = requests.put(f\"{sdw2023_api_url}/users/{user['id']}\", json=user)\n",
        "  return True if response.status_code == 200 else False\n",
        "\n",
        "# Criando loop para atualizar todos os usuários da lista\n",
        "for user in users:\n",
        "  success = update_user(user)\n",
        "  print(f\"User {user['name']} updated? {success}!\")"
      ],
      "metadata": {
        "id": "Vy-xbOZrQxV4"
      },
      "execution_count": null,
      "outputs": []
    }
  ]
}